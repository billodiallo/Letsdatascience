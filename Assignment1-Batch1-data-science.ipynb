{
 "cells": [
  {
   "cell_type": "markdown",
   "metadata": {},
   "source": [
    "# Question 1"
   ]
  },
  {
   "cell_type": "markdown",
   "metadata": {},
   "source": [
    "# B. RAINBOW"
   ]
  },
  {
   "cell_type": "markdown",
   "metadata": {},
   "source": [
    "# Question 2"
   ]
  },
  {
   "cell_type": "code",
   "execution_count": 2,
   "metadata": {},
   "outputs": [
    {
     "name": "stdout",
     "output_type": "stream",
     "text": [
      "LETS UPGRADE\n"
     ]
    }
   ],
   "source": [
    "print(\"LETS UPGRADE\")"
   ]
  },
  {
   "cell_type": "markdown",
   "metadata": {},
   "source": [
    "# Question 3"
   ]
  },
  {
   "cell_type": "code",
   "execution_count": 27,
   "metadata": {},
   "outputs": [
    {
     "name": "stdout",
     "output_type": "stream",
     "text": [
      "Enter the cost price\t10\n",
      "Enter the selling price\t25\n",
      "Transaction: -24982\n",
      "Profit is: -24982\n"
     ]
    }
   ],
   "source": [
    "costprice = int(input('Enter the cost price\\t'))\n",
    "sellingprice = int(input('Enter the selling price\\t'))\n",
    "transaction = sellingprice - costprice\n",
    "print(\"Transaction:\",b)\n",
    "if transaction > costprice:\n",
    "    print(\"Profit is:\",b)\n",
    "elif   transaction < costprice :\n",
    "    print(\"Lost:\",b)\n",
    "else :\n",
    "    print(\"Nether \")"
   ]
  },
  {
   "cell_type": "markdown",
   "metadata": {},
   "source": [
    "# Question4"
   ]
  },
  {
   "cell_type": "code",
   "execution_count": 33,
   "metadata": {},
   "outputs": [
    {
     "name": "stdout",
     "output_type": "stream",
     "text": [
      "Enter the amount in Euro\t1\n",
      "The Equivalent in Rupee is : 80\n"
     ]
    }
   ],
   "source": [
    "amount = int(input(\"Enter the amount in Euro\\t\"))\n",
    "Rupees = amount * 80\n",
    "print(\"The Equivalent in Rupee is :\",Rupees)"
   ]
  },
  {
   "cell_type": "raw",
   "metadata": {},
   "source": []
  },
  {
   "cell_type": "code",
   "execution_count": null,
   "metadata": {},
   "outputs": [],
   "source": []
  }
 ],
 "metadata": {
  "kernelspec": {
   "display_name": "Python 3",
   "language": "python",
   "name": "python3"
  },
  "language_info": {
   "codemirror_mode": {
    "name": "ipython",
    "version": 3
   },
   "file_extension": ".py",
   "mimetype": "text/x-python",
   "name": "python",
   "nbconvert_exporter": "python",
   "pygments_lexer": "ipython3",
   "version": "3.6.9"
  }
 },
 "nbformat": 4,
 "nbformat_minor": 4
}
